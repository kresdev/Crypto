{
 "cells": [
  {
   "cell_type": "code",
   "execution_count": 1,
   "metadata": {},
   "outputs": [],
   "source": [
    "from Crypto.Cipher import AES\n",
    "import binascii"
   ]
  },
  {
   "cell_type": "markdown",
   "metadata": {},
   "source": [
    "AES is the cipher block algorithm. This is example of AES 128 bits (16 bytes) input and key. For input more than 16 bytes (the most popular) there are several modes to be used :\n",
    "- ECB (Electronic Code Book): Every 128 bits plaintext are independent of each other \n",
    "- CBC (Cipher Block Chaining): Every 128 bits plaintext are depent on all the preceding ciphertext blocks\n",
    "\n",
    "AES need 128 bits multiple input. If our plaintext not 128 bits we need <b>Padding</b> to fill the gap. Example <b>Padding</b>:\n",
    "- Extra bits: 100000 (example)\n",
    "- white-spaces to the plaintext"
   ]
  },
  {
   "cell_type": "code",
   "execution_count": 2,
   "metadata": {},
   "outputs": [],
   "source": [
    "def add_padding(str, blocksize=16):\n",
    "    pad_len = blocksize - (len(str) % blocksize)\n",
    "    padding = char_padding * pad_len\n",
    "    return str + padding"
   ]
  },
  {
   "cell_type": "code",
   "execution_count": 3,
   "metadata": {},
   "outputs": [],
   "source": [
    "def remove_padding(str, blocksize=16):\n",
    "    pad_len = 0\n",
    "    \n",
    "    for char in str[::-1]:\n",
    "        if char == char_padding:\n",
    "            pad_len += 1\n",
    "        else:\n",
    "            break\n",
    "            \n",
    "    if(pad_len != 0):\n",
    "        str = str[:-pad_len]\n",
    "        \n",
    "    return str"
   ]
  },
  {
   "cell_type": "code",
   "execution_count": 4,
   "metadata": {},
   "outputs": [],
   "source": [
    "def AES_encrypt(plaintext, key, blocksize=16):\n",
    "    \n",
    "    if(len(plaintext) % blocksize != 0):\n",
    "        plaintext = add_padding(plaintext)\n",
    "        \n",
    "    aes = AES.new(key, mode)\n",
    "    encryption = aes.encrypt(plaintext)\n",
    "    return encryption"
   ]
  },
  {
   "cell_type": "code",
   "execution_count": 5,
   "metadata": {},
   "outputs": [],
   "source": [
    "def AES_decrypt(ciphertext, key, blocksize=16):\n",
    "    aes = AES.new(key, mode)\n",
    "    decryption = aes.decrypt(ciphertext).decode('UTF-8')\n",
    "    \n",
    "    decryption = remove_padding(decryption)\n",
    "        \n",
    "    return decryption"
   ]
  },
  {
   "cell_type": "code",
   "execution_count": 6,
   "metadata": {},
   "outputs": [],
   "source": [
    "plaintext = \"HELOBUDYSAYAKRES\" #Plaintext in ASCII\n",
    "key = bytes([0x00, 0x11, 0x22, 0x33, 0x44, 0x55, 0x66, 0x77, 0x88, 0x99, 0xAA, 0xBB, 0xCC, 0xDD, 0xEE, 0xFF]) # key in hex\n",
    "mode = AES.MODE_ECB\n",
    "char_padding = 'Z'"
   ]
  },
  {
   "cell_type": "code",
   "execution_count": 7,
   "metadata": {},
   "outputs": [
    {
     "name": "stdout",
     "output_type": "stream",
     "text": [
      "encryption result:  b'92ba5e3099c06b3081479f4973be9a6f'\n"
     ]
    }
   ],
   "source": [
    "encrypt = AES_encrypt(plaintext, key)\n",
    "print(\"encryption result: \", binascii.hexlify(encrypt))"
   ]
  },
  {
   "cell_type": "code",
   "execution_count": 8,
   "metadata": {},
   "outputs": [
    {
     "name": "stdout",
     "output_type": "stream",
     "text": [
      "decryption result:  HELOBUDYSAYAKRES\n"
     ]
    }
   ],
   "source": [
    "decrypt  = AES_decrypt(encrypt, key)\n",
    "print(\"decryption result: \", decrypt)"
   ]
  }
 ],
 "metadata": {
  "kernelspec": {
   "display_name": "Python [conda env:CW]",
   "language": "python",
   "name": "conda-env-CW-py"
  },
  "language_info": {
   "codemirror_mode": {
    "name": "ipython",
    "version": 3
   },
   "file_extension": ".py",
   "mimetype": "text/x-python",
   "name": "python",
   "nbconvert_exporter": "python",
   "pygments_lexer": "ipython3",
   "version": "3.7.6"
  }
 },
 "nbformat": 4,
 "nbformat_minor": 4
}
