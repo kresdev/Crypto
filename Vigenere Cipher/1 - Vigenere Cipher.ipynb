{
 "cells": [
  {
   "cell_type": "code",
   "execution_count": 1,
   "metadata": {},
   "outputs": [],
   "source": [
    "alphabet = 'ABCDEFGHIJKLMNOPQRSTUVWXYZ'"
   ]
  },
  {
   "cell_type": "code",
   "execution_count": 2,
   "metadata": {},
   "outputs": [],
   "source": [
    "def vigenere_encrypt(plaintext, key):\n",
    "    \n",
    "    plaintext = plaintext.upper()\n",
    "    key = key.upper()\n",
    "    \n",
    "    ciphertext = ''\n",
    "    key_index = 0\n",
    "    \n",
    "    for c in plaintext:\n",
    "        index = (alphabet.find(c)+alphabet.find(key[key_index])) % len(alphabet)\n",
    "        ciphertext = ciphertext + alphabet[index]\n",
    "        \n",
    "        key_index += 1\n",
    "        \n",
    "        if key_index == len(key):\n",
    "            key_index = 0\n",
    "    \n",
    "    return ciphertext"
   ]
  },
  {
   "cell_type": "code",
   "execution_count": 3,
   "metadata": {},
   "outputs": [],
   "source": [
    "def vigenere_decrypt(ciphertext, key):\n",
    "    \n",
    "    ciphertext = ciphertext.upper()\n",
    "    key = key.upper()\n",
    "    \n",
    "    plaintext = ''\n",
    "    key_index = 0\n",
    "    \n",
    "    for c in ciphertext:\n",
    "        index = (alphabet.find(c)-alphabet.find(key[key_index])) % len(alphabet)\n",
    "        plaintext = plaintext + alphabet[index]\n",
    "        \n",
    "        key_index += 1\n",
    "        \n",
    "        if key_index == len(key):\n",
    "            key_index = 0\n",
    "    \n",
    "    return plaintext"
   ]
  },
  {
   "cell_type": "code",
   "execution_count": 4,
   "metadata": {},
   "outputs": [
    {
     "name": "stdout",
     "output_type": "stream",
     "text": [
      "YASOTCDPMHN\n"
     ]
    }
   ],
   "source": [
    "message = 'HALOBUDYMAN'\n",
    "key = 'RAHASIA'\n",
    "\n",
    "encrypted_message = vigenere_encrypt(message, key)\n",
    "print(encrypted_message)"
   ]
  },
  {
   "cell_type": "code",
   "execution_count": 5,
   "metadata": {},
   "outputs": [
    {
     "name": "stdout",
     "output_type": "stream",
     "text": [
      "HALOBUDYMAN\n"
     ]
    }
   ],
   "source": [
    "decrypted_message = vigenere_decrypt(encrypted_message, key)\n",
    "print(decrypted_message)"
   ]
  }
 ],
 "metadata": {
  "kernelspec": {
   "display_name": "Python [conda env:jcopml]",
   "language": "python",
   "name": "conda-env-jcopml-py"
  },
  "language_info": {
   "codemirror_mode": {
    "name": "ipython",
    "version": 3
   },
   "file_extension": ".py",
   "mimetype": "text/x-python",
   "name": "python",
   "nbconvert_exporter": "python",
   "pygments_lexer": "ipython3",
   "version": "3.7.6"
  }
 },
 "nbformat": 4,
 "nbformat_minor": 4
}
