{
 "cells": [
  {
   "cell_type": "code",
   "execution_count": 1,
   "metadata": {},
   "outputs": [],
   "source": [
    "alphabet = 'ABCDEFGHIJKLMNOPQRSTUVWXYZ'"
   ]
  },
  {
   "cell_type": "code",
   "execution_count": 2,
   "metadata": {},
   "outputs": [],
   "source": [
    "def vigenere_encrypt(plaintext, key):\n",
    "    \n",
    "    plaintext = plaintext.upper()\n",
    "    key = key.upper()\n",
    "    \n",
    "    ciphertext = ''\n",
    "    key_index = 0\n",
    "    \n",
    "    for c in plaintext:\n",
    "        index = (alphabet.find(c)+alphabet.find(key[key_index])) % len(alphabet)\n",
    "        ciphertext = ciphertext + alphabet[index]\n",
    "        \n",
    "        key_index += 1\n",
    "        \n",
    "        if key_index == len(key):\n",
    "            key_index = 0\n",
    "    \n",
    "    return ciphertext"
   ]
  },
  {
   "cell_type": "code",
   "execution_count": 3,
   "metadata": {},
   "outputs": [],
   "source": [
    "def vigenere_decrypt(ciphertext, key):\n",
    "    \n",
    "    ciphertext = ciphertext.upper()\n",
    "    key = key.upper()\n",
    "    \n",
    "    plaintext = ''\n",
    "    key_index = 0\n",
    "    \n",
    "    for c in ciphertext:\n",
    "        index = (alphabet.find(c)-alphabet.find(key[key_index])) % len(alphabet)\n",
    "        plaintext = plaintext + alphabet[index]\n",
    "        \n",
    "        key_index += 1\n",
    "        \n",
    "        if key_index == len(key):\n",
    "            key_index = 0\n",
    "    \n",
    "    return plaintext"
   ]
  },
  {
   "cell_type": "code",
   "execution_count": 4,
   "metadata": {},
   "outputs": [
    {
     "name": "stdout",
     "output_type": "stream",
     "text": [
      "YASOTCDPMHN\n"
     ]
    }
   ],
   "source": [
    "message = 'HALOBUDYMAN'\n",
    "key = 'RAHASIA'\n",
    "\n",
    "encrypted_message = vigenere_encrypt(message, key)\n",
    "print(encrypted_message)"
   ]
  },
  {
   "cell_type": "code",
   "execution_count": 5,
   "metadata": {},
   "outputs": [
    {
     "name": "stdout",
     "output_type": "stream",
     "text": [
      "HALOBUDYMAN\n"
     ]
    }
   ],
   "source": [
    "decrypted_message = vigenere_decrypt(encrypted_message, key)\n",
    "print(decrypted_message)"
   ]
  },
  {
   "cell_type": "code",
   "execution_count": 11,
   "metadata": {},
   "outputs": [
    {
     "data": {
      "text/plain": [
       "E    8\n",
       "F    2\n",
       "M    2\n",
       "O    2\n",
       "Y    1\n",
       "B    1\n",
       "T    1\n",
       "I    1\n",
       "H    1\n",
       "R    1\n",
       "D    1\n",
       "L    1\n",
       "dtype: int64"
      ]
     },
     "execution_count": 11,
     "metadata": {},
     "output_type": "execute_result"
    }
   ],
   "source": [
    "df.value_counts()"
   ]
  },
  {
   "cell_type": "code",
   "execution_count": null,
   "metadata": {},
   "outputs": [],
   "source": [
    "eo"
   ]
  },
  {
   "cell_type": "code",
   "execution_count": 11,
   "metadata": {},
   "outputs": [],
   "source": [
    "ETAOIN = 'ETAOINSHRDLCUMWFGYPBVKJXQZ'\n",
    "LETTERS = 'ABCDEFGHIJKLMNOPQRSTUVWXYZ'\n",
    "\n",
    "def getLetterCount(message):\n",
    "    # Returns a dictionary with keys of single letters and values of the\n",
    "    # count of how many times they appear in the message parameter.\n",
    "    letterCount = {'A': 0, 'B': 0, 'C': 0, 'D': 0, 'E': 0, 'F': 0, 'G': 0, 'H': 0, 'I': 0, 'J': 0, 'K': 0, 'L': 0, 'M': 0, 'N': 0, 'O': 0, 'P': 0, 'Q': 0, 'R': 0, 'S': 0, 'T': 0, 'U': 0, 'V': 0, 'W': 0, 'X': 0, 'Y': 0, 'Z': 0}\n",
    "\n",
    "    for letter in message.upper():\n",
    "        if letter in LETTERS:\n",
    "            letterCount[letter] += 1\n",
    "\n",
    "    return letterCount\n",
    "\n",
    "\n",
    "def getItemAtIndexZero(x):\n",
    "    return x[0]\n",
    "\n",
    "def getFrequencyOrder(message):\n",
    "    # Returns a string of the alphabet letters arranged in order of most\n",
    "    # frequently occurring in the message parameter.\n",
    "\n",
    "    # first, get a dictionary of each letter and its frequency count\n",
    "    letterToFreq = getLetterCount(message)\n",
    "\n",
    "    # second, make a dictionary of each frequency count to each letter(s)\n",
    "    # with that frequency\n",
    "    freqToLetter = {}\n",
    "    for letter in LETTERS:\n",
    "        if letterToFreq[letter] not in freqToLetter:\n",
    "            freqToLetter[letterToFreq[letter]] = [letter]\n",
    "        else:\n",
    "            freqToLetter[letterToFreq[letter]].append(letter)\n",
    "\n",
    "    # third, put each list of letters in reverse \"ETAOIN\" order, and then\n",
    "    # convert it to a string\n",
    "    for freq in freqToLetter:\n",
    "        freqToLetter[freq].sort(key=ETAOIN.find, reverse=True)\n",
    "        freqToLetter[freq] = ''.join(freqToLetter[freq])\n",
    "\n",
    "    # fourth, convert the freqToLetter dictionary to a list of tuple\n",
    "    # pairs (key, value), then sort them\n",
    "    freqPairs = list(freqToLetter.items())\n",
    "    freqPairs.sort(key=getItemAtIndexZero, reverse=True)\n",
    "\n",
    "    # fifth, now that the letters are ordered by frequency, extract all\n",
    "    # the letters for the final string\n",
    "    freqOrder = []\n",
    "    for freqPair in freqPairs:\n",
    "        freqOrder.append(freqPair[1])\n",
    "\n",
    "    return ''.join(freqOrder)"
   ]
  },
  {
   "cell_type": "code",
   "execution_count": 13,
   "metadata": {},
   "outputs": [
    {
     "data": {
      "text/plain": [
       "{'A': 8,\n",
       " 'B': 2,\n",
       " 'C': 0,\n",
       " 'D': 1,\n",
       " 'E': 1,\n",
       " 'F': 0,\n",
       " 'G': 0,\n",
       " 'H': 1,\n",
       " 'I': 2,\n",
       " 'J': 0,\n",
       " 'K': 2,\n",
       " 'L': 0,\n",
       " 'M': 0,\n",
       " 'N': 1,\n",
       " 'O': 0,\n",
       " 'P': 1,\n",
       " 'Q': 0,\n",
       " 'R': 0,\n",
       " 'S': 0,\n",
       " 'T': 0,\n",
       " 'U': 1,\n",
       " 'V': 0,\n",
       " 'W': 0,\n",
       " 'X': 1,\n",
       " 'Y': 0,\n",
       " 'Z': 1}"
      ]
     },
     "execution_count": 13,
     "metadata": {},
     "output_type": "execute_result"
    }
   ],
   "source": [
    "getLetterCount(\"PAEBABANZIAHAKDXAAAKIU\")"
   ]
  },
  {
   "cell_type": "code",
   "execution_count": 14,
   "metadata": {},
   "outputs": [
    {
     "data": {
      "text/plain": [
       "'AKBIZXPUDHNEQJVYGFWMCLRSOT'"
      ]
     },
     "execution_count": 14,
     "metadata": {},
     "output_type": "execute_result"
    }
   ],
   "source": [
    "getFrequencyOrder(\"PAEBABANZIAHAKDXAAAKIU\")"
   ]
  },
  {
   "cell_type": "code",
   "execution_count": null,
   "metadata": {},
   "outputs": [],
   "source": []
  }
 ],
 "metadata": {
  "kernelspec": {
   "display_name": "Python [conda env:jcopml]",
   "language": "python",
   "name": "conda-env-jcopml-py"
  },
  "language_info": {
   "codemirror_mode": {
    "name": "ipython",
    "version": 3
   },
   "file_extension": ".py",
   "mimetype": "text/x-python",
   "name": "python",
   "nbconvert_exporter": "python",
   "pygments_lexer": "ipython3",
   "version": "3.7.6"
  }
 },
 "nbformat": 4,
 "nbformat_minor": 4
}
