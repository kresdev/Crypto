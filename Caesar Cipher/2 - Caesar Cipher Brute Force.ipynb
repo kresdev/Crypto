{
 "cells": [
  {
   "cell_type": "markdown",
   "metadata": {},
   "source": [
    "## Make Brute Force Function"
   ]
  },
  {
   "cell_type": "code",
   "execution_count": 1,
   "metadata": {},
   "outputs": [],
   "source": [
    "#add space, the len of alphabet = 27\n",
    "alphabet = ' ABCDEFGHIJKLMNOPQRSTUVWXYZ'"
   ]
  },
  {
   "cell_type": "code",
   "execution_count": 2,
   "metadata": {},
   "outputs": [],
   "source": [
    "def caesar_crack(ciphertext):\n",
    "    \n",
    "    #we will try all possible key value in alphabet\n",
    "    for key in range(len(alphabet)):\n",
    "        \n",
    "        plaintext = ''\n",
    "        \n",
    "        for n in ciphertext:\n",
    "            #check index of plaintext in alphabet\n",
    "            idx = alphabet.find(n)\n",
    "\n",
    "            #then use encryption formula\n",
    "            idx = (idx-key) %len(alphabet)\n",
    "\n",
    "            #append the ciphertext untill all plaintext have been encrypted\n",
    "            plaintext = plaintext + alphabet[idx]\n",
    "        \n",
    "        print('with key %s, decryption: %s' %(key, plaintext))\n",
    "        "
   ]
  },
  {
   "cell_type": "code",
   "execution_count": 3,
   "metadata": {},
   "outputs": [
    {
     "name": "stdout",
     "output_type": "stream",
     "text": [
      "with key 0, decryption: LIPPSDQBDREQIDMWDFYHB\n",
      "with key 1, decryption: KHOORCPACQDPHCLVCEXGA\n",
      "with key 2, decryption: JGNNQBO BPCOGBKUBDWF \n",
      "with key 3, decryption: IFMMPANZAOBNFAJTACVEZ\n",
      "with key 4, decryption: HELLO MY NAME IS BUDY\n",
      "with key 5, decryption: GDKKNZLXZM LDZHRZATCX\n",
      "with key 6, decryption: FCJJMYKWYLZKCYGQY SBW\n",
      "with key 7, decryption: EBIILXJVXKYJBXFPXZRAV\n",
      "with key 8, decryption: DAHHKWIUWJXIAWEOWYQ U\n",
      "with key 9, decryption: C GGJVHTVIWH VDNVXPZT\n",
      "with key 10, decryption: BZFFIUGSUHVGZUCMUWOYS\n",
      "with key 11, decryption: AYEEHTFRTGUFYTBLTVNXR\n",
      "with key 12, decryption:  XDDGSEQSFTEXSAKSUMWQ\n",
      "with key 13, decryption: ZWCCFRDPRESDWR JRTLVP\n",
      "with key 14, decryption: YVBBEQCOQDRCVQZIQSKUO\n",
      "with key 15, decryption: XUAADPBNPCQBUPYHPRJTN\n",
      "with key 16, decryption: WT  COAMOBPATOXGOQISM\n",
      "with key 17, decryption: VSZZBN LNAO SNWFNPHRL\n",
      "with key 18, decryption: URYYAMZKM NZRMVEMOGQK\n",
      "with key 19, decryption: TQXX LYJLZMYQLUDLNFPJ\n",
      "with key 20, decryption: SPWWZKXIKYLXPKTCKMEOI\n",
      "with key 21, decryption: ROVVYJWHJXKWOJSBJLDNH\n",
      "with key 22, decryption: QNUUXIVGIWJVNIRAIKCMG\n",
      "with key 23, decryption: PMTTWHUFHVIUMHQ HJBLF\n",
      "with key 24, decryption: OLSSVGTEGUHTLGPZGIAKE\n",
      "with key 25, decryption: NKRRUFSDFTGSKFOYFH JD\n",
      "with key 26, decryption: MJQQTERCESFRJENXEGZIC\n"
     ]
    }
   ],
   "source": [
    "encrypted_message = 'LIPPSDQBDREQIDMWDFYHB'\n",
    "caesar_crack(encrypted_message)"
   ]
  },
  {
   "cell_type": "markdown",
   "metadata": {},
   "source": [
    "<b>From the result we can see, the possible decryption is number 5 that using key - 4</b>\n",
    "    \n",
    "You can combine the output with dictionary or deep learning code"
   ]
  }
 ],
 "metadata": {
  "kernelspec": {
   "display_name": "Python [conda env:crypto] *",
   "language": "python",
   "name": "conda-env-crypto-py"
  },
  "language_info": {
   "codemirror_mode": {
    "name": "ipython",
    "version": 3
   },
   "file_extension": ".py",
   "mimetype": "text/x-python",
   "name": "python",
   "nbconvert_exporter": "python",
   "pygments_lexer": "ipython3",
   "version": "3.7.6"
  }
 },
 "nbformat": 4,
 "nbformat_minor": 4
}
