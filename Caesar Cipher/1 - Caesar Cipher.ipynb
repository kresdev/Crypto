{
 "cells": [
  {
   "cell_type": "markdown",
   "metadata": {},
   "source": [
    "## Make Caesar Cipher Encrypt and Decrypt Function"
   ]
  },
  {
   "cell_type": "code",
   "execution_count": 1,
   "metadata": {},
   "outputs": [],
   "source": [
    "#add space, the len of alphabet = 27\n",
    "alphabet = ' ABCDEFGHIJKLMNOPQRSTUVWXYZ'"
   ]
  },
  {
   "cell_type": "code",
   "execution_count": 2,
   "metadata": {},
   "outputs": [],
   "source": [
    "def caesar_encrypt(plaintext, key):\n",
    "    ciphertext = ''\n",
    "    \n",
    "    #We'll make all plaintext to be not case sensitive\n",
    "    plaintext = plaintext.upper()\n",
    "    \n",
    "    for n in plaintext:\n",
    "        #check index of plaintext in alphabet\n",
    "        idx = alphabet.find(n)\n",
    "        \n",
    "        #then use encryption formula\n",
    "        idx = (idx+key) %len(alphabet)\n",
    "        \n",
    "        #append the ciphertext untill all plaintext have been encrypted\n",
    "        ciphertext = ciphertext + alphabet[idx]\n",
    "    \n",
    "    return ciphertext"
   ]
  },
  {
   "cell_type": "code",
   "execution_count": 3,
   "metadata": {},
   "outputs": [],
   "source": [
    "def caesar_decrypt(ciphertext, key):\n",
    "    plaintext = ''\n",
    "    \n",
    "    #We'll make all plaintext to be not case sensitive\n",
    "    ciphertext = ciphertext.upper()\n",
    "    \n",
    "    for n in ciphertext:\n",
    "        #check index of plaintext in alphabet\n",
    "        idx = alphabet.find(n)\n",
    "        \n",
    "        #then use encryption formula\n",
    "        idx = (idx-key) %len(alphabet)\n",
    "        \n",
    "        #append the ciphertext untill all plaintext have been encrypted\n",
    "        plaintext = plaintext + alphabet[idx]\n",
    "    \n",
    "    return plaintext"
   ]
  },
  {
   "cell_type": "markdown",
   "metadata": {},
   "source": [
    "## Caesar Cipher Test"
   ]
  },
  {
   "cell_type": "code",
   "execution_count": 4,
   "metadata": {},
   "outputs": [
    {
     "name": "stdout",
     "output_type": "stream",
     "text": [
      "LIPPSDQBDREQIDMWDFYHB\n"
     ]
    }
   ],
   "source": [
    "message = 'HELLO MY NAME IS BUDY'\n",
    "key = 4\n",
    "\n",
    "encrypted_message = caesar_encrypt(message, key)\n",
    "print(encrypted_message)"
   ]
  },
  {
   "cell_type": "code",
   "execution_count": 5,
   "metadata": {},
   "outputs": [
    {
     "name": "stdout",
     "output_type": "stream",
     "text": [
      "HELLO MY NAME IS BUDY\n"
     ]
    }
   ],
   "source": [
    "decyrpted_message = caesar_decrypt(encrypted_message, key)\n",
    "print(decyrpted_message)"
   ]
  }
 ],
 "metadata": {
  "kernelspec": {
   "display_name": "Python [conda env:crypto] *",
   "language": "python",
   "name": "conda-env-crypto-py"
  },
  "language_info": {
   "codemirror_mode": {
    "name": "ipython",
    "version": 3
   },
   "file_extension": ".py",
   "mimetype": "text/x-python",
   "name": "python",
   "nbconvert_exporter": "python",
   "pygments_lexer": "ipython3",
   "version": "3.7.6"
  }
 },
 "nbformat": 4,
 "nbformat_minor": 4
}
