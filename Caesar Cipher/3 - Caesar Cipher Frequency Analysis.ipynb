{
 "cells": [
  {
   "cell_type": "code",
   "execution_count": 1,
   "metadata": {},
   "outputs": [],
   "source": [
    "import matplotlib.pyplot as plt"
   ]
  },
  {
   "cell_type": "code",
   "execution_count": 2,
   "metadata": {},
   "outputs": [],
   "source": [
    "#add space, the len of alphabet = 27\n",
    "alphabet = ' ABCDEFGHIJKLMNOPQRSTUVWXYZ'"
   ]
  },
  {
   "cell_type": "code",
   "execution_count": 3,
   "metadata": {},
   "outputs": [],
   "source": [
    "def freq_analysis(ciphertext):\n",
    "    \n",
    "    ciphertext = ciphertext.upper()\n",
    "    \n",
    "    letter_freq = {}\n",
    "    \n",
    "    for letter in alphabet:\n",
    "        letter_freq[letter] = 0\n",
    "    \n",
    "    for letter in ciphertext:\n",
    "        \n",
    "        if letter in alphabet:\n",
    "            letter_freq[letter] += 1\n",
    "    \n",
    "    return letter_freq"
   ]
  },
  {
   "cell_type": "code",
   "execution_count": 4,
   "metadata": {},
   "outputs": [],
   "source": [
    "def plot_dist(letter_freq):\n",
    "    centers = range(len(alphabet))\n",
    "    plt.figure(figsize=(15, 7))\n",
    "    plt.bar(centers, letter_freq.values(), align='center', tick_label=list(letter_freq.keys()))\n",
    "    plt.xlabel('Alphabet')\n",
    "    plt.ylabel('Total')\n",
    "    plt.title('Frequency Distribution')\n",
    "    plt.show()"
   ]
  },
  {
   "cell_type": "code",
   "execution_count": 5,
   "metadata": {},
   "outputs": [],
   "source": [
    "def caesar_decrypt(ciphertext, key):\n",
    "    plaintext = ''\n",
    "    \n",
    "    #We'll make all plaintext to be not case sensitive\n",
    "    ciphertext = ciphertext.upper()\n",
    "    \n",
    "    for n in ciphertext:\n",
    "        #check index of plaintext in alphabet\n",
    "        idx = alphabet.find(n)\n",
    "        \n",
    "        #then use encryption formula\n",
    "        idx = (idx-key) %len(alphabet)\n",
    "        \n",
    "        #append the ciphertext untill all plaintext have been encrypted\n",
    "        plaintext = plaintext + alphabet[idx]\n",
    "    \n",
    "    return plaintext"
   ]
  },
  {
   "cell_type": "code",
   "execution_count": 6,
   "metadata": {},
   "outputs": [
    {
     "data": {
      "image/png": "[encoded data removed]",
      "text/plain": [
       "<Figure size 1080x504 with 1 Axes>"
      ]
     },
     "metadata": {
      "needs_background": "light"
     },
     "output_type": "display_data"
    },
    {
     "data": {
      "text/plain": [
       "'THIS PAGE SHARES MY BEST ARTICLES TO READ ON TOPICS LIKE HEALTH HAPPINESS CREATIVITY PRODUCTIVITY AND MORE THE CENTRAL QUESTION THAT DRIVES MY WORK IS HOW CAN WE LIVE BETTER TO ANSWER THAT QUESTION I LIKE TO WRITE ABOUT SCIENCE BASED WAYS TO SOLVE PRACTICAL PROBLEMS'"
      ]
     },
     "execution_count": 6,
     "metadata": {},
     "output_type": "execute_result"
    }
   ],
   "source": [
    "ciphertext = 'YMNXEUFLJEXMFWJXERCEGJXYEFWYNHQJXEYTEWJFIETSEYTUNHXEQNPJEMJFQYMEMFUUNSJXXEHWJFYN NYCEUWTIZHYN NYCEFSIERTWJEYMJEHJSYWFQEVZJXYNTSEYMFYEIWN JXERCEATWPENXEMTAEHFSEAJEQN JEGJYYJWEYTEFSXAJWEYMFYEVZJXYNTSENEQNPJEYTEAWNYJEFGTZYEXHNJSHJEGFXJIEAFCXEYTEXTQ JEUWFHYNHFQEUWTGQJRX'\n",
    "key = 5\n",
    "\n",
    "out = freq_analysis(ciphertext)\n",
    "plot_dist(out)\n",
    "caesar_decrypt(ciphertext, key)"
   ]
  }
 ],
 "metadata": {
  "kernelspec": {
   "display_name": "Python [conda env:crypto] *",
   "language": "python",
   "name": "conda-env-crypto-py"
  },
  "language_info": {
   "codemirror_mode": {
    "name": "ipython",
    "version": 3
   },
   "file_extension": ".py",
   "mimetype": "text/x-python",
   "name": "python",
   "nbconvert_exporter": "python",
   "pygments_lexer": "ipython3",
   "version": "3.7.6"
  }
 },
 "nbformat": 4,
 "nbformat_minor": 4
}
