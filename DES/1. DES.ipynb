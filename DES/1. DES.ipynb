{
 "cells": [
  {
   "cell_type": "code",
   "execution_count": 1,
   "metadata": {},
   "outputs": [],
   "source": [
    "from Crypto.Cipher import DES # please install Pycrypto lib first\n",
    "import binascii"
   ]
  },
  {
   "cell_type": "markdown",
   "metadata": {},
   "source": [
    "DES is the cipher block algorithm. To encrypt plaintext, DES need to be devided into 64 bits (8 byte) input. For input more than 8 bytes (the most popular) there are several modes to be used :\n",
    "- ECB (Electronic Code Book): Every 64 bits plaintext are independent of each other \n",
    "- CBC (Cipher Block Chaining): Every 64 bits plaintext are depent on all the preceding ciphertext blocks\n",
    "\n",
    "DES need 64 bits multiple input. If our plaintext not 64 bits we need <b>Padding</b> to fill the gap. Example <b>Padding</b>:\n",
    "- Extra bits: 100000 (example)\n",
    "- white-spaces to the plaintext"
   ]
  },
  {
   "cell_type": "code",
   "execution_count": 2,
   "metadata": {},
   "outputs": [],
   "source": [
    "def add_padding(str, blocksize=8):\n",
    "    pad_len = blocksize - (len(str) % blocksize)\n",
    "    padding = char_padding * pad_len\n",
    "    return str + padding"
   ]
  },
  {
   "cell_type": "code",
   "execution_count": 3,
   "metadata": {},
   "outputs": [],
   "source": [
    "def remove_padding(str, blocksize=8):\n",
    "    pad_len = 0\n",
    "    \n",
    "    for char in str[::-1]:\n",
    "        if char == char_padding:\n",
    "            pad_len += 1\n",
    "        else:\n",
    "            break\n",
    "            \n",
    "    if(pad_len != 0):\n",
    "        str = str[:-pad_len]\n",
    "        \n",
    "    return str"
   ]
  },
  {
   "cell_type": "code",
   "execution_count": 4,
   "metadata": {},
   "outputs": [],
   "source": [
    "def DES_encrypt(plaintext, key, blocksize=8):\n",
    "    \n",
    "    if(len(plaintext) % blocksize != 0):\n",
    "        plaintext = add_padding(plaintext)\n",
    "        \n",
    "    des = DES.new(key, mode)\n",
    "    encryption = des.encrypt(plaintext)\n",
    "    return encryption"
   ]
  },
  {
   "cell_type": "code",
   "execution_count": 5,
   "metadata": {},
   "outputs": [],
   "source": [
    "def DES_decrypt(ciphertext, key, blocksize=8):\n",
    "    des = DES.new(key, mode)\n",
    "    decryption = des.decrypt(ciphertext).decode('UTF-8')\n",
    "    \n",
    "    decryption = remove_padding(decryption)\n",
    "        \n",
    "    return decryption"
   ]
  },
  {
   "cell_type": "code",
   "execution_count": 6,
   "metadata": {},
   "outputs": [],
   "source": [
    "plaintext = \"HELOBUDY\" #Plaintext in ASCII\n",
    "key = bytes([0x11, 0x22, 0x33, 0x44, 0x55, 0x66, 0x77, 0x88]) # key in hex\n",
    "mode = DES.MODE_ECB\n",
    "char_padding = 'Z'"
   ]
  },
  {
   "cell_type": "code",
   "execution_count": 7,
   "metadata": {},
   "outputs": [
    {
     "name": "stdout",
     "output_type": "stream",
     "text": [
      "encryption result:  b'6be3350eb910087f'\n"
     ]
    }
   ],
   "source": [
    "encrypt = DES_encrypt(plaintext, key)\n",
    "print(\"encryption result: \", binascii.hexlify(encrypt))"
   ]
  },
  {
   "cell_type": "code",
   "execution_count": 8,
   "metadata": {},
   "outputs": [
    {
     "name": "stdout",
     "output_type": "stream",
     "text": [
      "decryption result:  HELOBUDY\n"
     ]
    }
   ],
   "source": [
    "decrypt  = DES_decrypt(encrypt, key)\n",
    "print(\"decryption result: \", decrypt)"
   ]
  }
 ],
 "metadata": {
  "kernelspec": {
   "display_name": "Python [conda env:crypto]",
   "language": "python",
   "name": "conda-env-crypto-py"
  },
  "language_info": {
   "codemirror_mode": {
    "name": "ipython",
    "version": 3
   },
   "file_extension": ".py",
   "mimetype": "text/x-python",
   "name": "python",
   "nbconvert_exporter": "python",
   "pygments_lexer": "ipython3",
   "version": "3.7.6"
  }
 },
 "nbformat": 4,
 "nbformat_minor": 4
}
